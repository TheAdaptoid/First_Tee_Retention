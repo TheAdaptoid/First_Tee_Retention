{
 "cells": [
  {
   "cell_type": "code",
   "execution_count": 58,
   "metadata": {},
   "outputs": [],
   "source": [
    "import pandas as pd\n",
    "import numpy as np\n",
    "import seaborn as sb\n",
    "from sklearn import linear_model as lm"
   ]
  },
  {
   "cell_type": "code",
   "execution_count": 59,
   "metadata": {},
   "outputs": [
    {
     "name": "stderr",
     "output_type": "stream",
     "text": [
      "C:\\Users\\Marion\\AppData\\Local\\Temp\\ipykernel_34336\\1377364099.py:1: DtypeWarning: Columns (5) have mixed types. Specify dtype option on import or set low_memory=False.\n",
      "  partFrame = pd.read_csv(\"StudentSet.csv\")\n"
     ]
    }
   ],
   "source": [
    "partFrame = pd.read_csv(\"StudentSet.csv\")\n",
    "partFrame[\"Ethnicity\"].replace(\"Black or African-American\", \"Black or African American\", inplace=True)\n",
    "partFrame[\"Ethnicity\"].replace(\"Native American or Native Alaskan\", \"Native American\", inplace=True)\n",
    "for dropItem in [\"13\", \"Graduate\", \"Home School\"]:\n",
    "    partFrame.drop(partFrame[partFrame[\"Grade Level\"] == dropItem].index, inplace=True)\n",
    "partFrame[\"Grade Level\"] = partFrame[\"Grade Level\"].astype(\"int64\")\n",
    "partFrame.rename(columns={\"Mailing Zip/Postal Code\": \"Zip Code\"}, inplace=True)\n",
    "partFrame[\"Zip Code\"] = [str(partFrame[\"Zip Code\"][row])[0:5] for row in partFrame[\"Zip Code\"].index]\n",
    "partFrame.drop(\"Chapter Affiliation: Account Name\", inplace=True, axis=1)\n",
    "partFrame.drop_duplicates(subset=[\"Contact ID\"], inplace=True)"
   ]
  },
  {
   "cell_type": "code",
   "execution_count": 61,
   "metadata": {},
   "outputs": [],
   "source": [
    "childSessionFrame = pd.read_csv(\"RegistrationData.csv\")\n",
    "completionSeries = pd.Series(childSessionFrame[\"Contact ID\"].value_counts())\n",
    "partFrame.sort_values(by=\"Contact ID\", inplace=True)\n",
    "for row in partFrame.index:\n",
    "    childID = str(partFrame[\"Contact ID\"][row])\n",
    "    \n",
    "\n"
   ]
  }
 ],
 "metadata": {
  "kernelspec": {
   "display_name": "Python 3",
   "language": "python",
   "name": "python3"
  },
  "language_info": {
   "codemirror_mode": {
    "name": "ipython",
    "version": 3
   },
   "file_extension": ".py",
   "mimetype": "text/x-python",
   "name": "python",
   "nbconvert_exporter": "python",
   "pygments_lexer": "ipython3",
   "version": "3.11.1"
  }
 },
 "nbformat": 4,
 "nbformat_minor": 2
}
