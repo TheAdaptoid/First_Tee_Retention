{
 "cells": [
  {
   "cell_type": "code",
   "execution_count": 297,
   "metadata": {},
   "outputs": [],
   "source": [
    "import matplotlib.pyplot as plt\n",
    "import numpy as np\n",
    "import pandas as pd\n",
    "import seaborn as sns\n",
    "\n",
    "np.random.seed(1)"
   ]
  },
  {
   "cell_type": "code",
   "execution_count": 313,
   "metadata": {},
   "outputs": [],
   "source": [
    "#Based on US Census\n",
    "regionList = [\"New England\", \"Middle Atlantic\", \"East North Central\", \"West North Central\", \"South Atlantic\", \"East South Central\", \"West South Central\", \"Mountain\", \"Pacific\"]\n",
    "weekdayList = [\"Monday\", \"Tuesday\", \"Wednesday\", \"Thursday\", \"Friday\", \"Saturday\", \"Sunday\"]\n",
    "\n",
    "def Sea_Prob(region):\n",
    "    #Winter, Spring, Summer, Fall\n",
    "    if region == \"New England\" or region == \"Middle Atlantic\" or region == \"East North Central\":\n",
    "        return [0.1, 0.25, 0.5, 0.15]\n",
    "    elif region == \"Pacific\" or region == \"Mountain\" or region == \"West North Central\":\n",
    "        return [0.125, 0.2, 0.5, 0.175]\n",
    "    elif region == \"East South Central\" or region == \"West South Central\" or region == \"South Atlantic\":\n",
    "        return [0.1, 0.3, 0.4, 0.2]\n",
    "    \n",
    "def Sess_Len(season):\n",
    "    if season == \"Winter\":\n",
    "        return round(abs(np.random.normal(1,1)),0)\n",
    "    elif season == \"Spring\":\n",
    "        return round(abs(np.random.normal(2,2)),0)\n",
    "    elif season == \"Summer\":\n",
    "        return round(abs(np.random.normal(4,2)),0)\n",
    "    elif season == \"Fall\":\n",
    "        return round(abs(np.random.normal(2,1.5)),0)\n",
    "    \n",
    "def Sess_Day(season):\n",
    "    #Monday, Tuesday, Wednesday, Thursday, Friday, Saturday, Sunday\n",
    "    if season == \"Winter\" or season == \"Summer\":\n",
    "        return [0.1, 0.1, 0.1, 0.1, 0.2, 0.2, 0.2]\n",
    "    elif season == \"Spring\" or season == \"Fall\":\n",
    "        return [0.1, 0.1, 0.1, 0.1, 0.2, 0.25, 0.15]\n",
    "    \n",
    "def Clamp(value, minVal, maxVal):\n",
    "    if value < (maxVal - minVal) / 2:\n",
    "        return minVal\n",
    "    else:\n",
    "        return maxVal\n",
    "    \n",
    "def Skew_Value(mean, deviation, power):\n",
    "    normalScalar = abs(np.random.normal(mean, deviation))\n",
    "    offset = abs(mean - normalScalar)\n",
    "    skewValue = ((1+power) / offset) + normalScalar\n",
    "    return skewValue\n",
    "    "
   ]
  },
  {
   "cell_type": "code",
   "execution_count": 319,
   "metadata": {},
   "outputs": [],
   "source": [
    "dataSetSize = 1000\n",
    "\n",
    "#Independent Variables\n",
    "prdDict = {\n",
    "    \"Region\": np.random.choice(regionList, dataSetSize),\n",
    "    \"Season\": [],\n",
    "    \"Session Length\": [],\n",
    "    \"Session Days\": [],\n",
    "    \"Sibling Discount\": [],\n",
    "    \"Military Discount\": [],\n",
    "    \"Membership Discount\": [],\n",
    "    \"Membership Required\": [],\n",
    "    \"Min Age\": [],\n",
    "    \"Max Age\": [],\n",
    "}\n",
    "\n",
    "#Dependent Variables\n",
    "for index in range(dataSetSize):\n",
    "    prdDict[\"Season\"].append(np.random.choice([\"Winter\", \"Spring\", \"Summer\", \"Fall\"], p=Sea_Prob(prdDict[\"Region\"][index])))\n",
    "    prdDict[\"Session Length\"].append(Sess_Len(prdDict[\"Season\"][index]))\n",
    "    prdDict[\"Session Days\"].append(np.random.choice(weekdayList, p=Sess_Day(prdDict[\"Season\"][index])))\n",
    "    prdDict[\"Sibling Discount\"].append(Clamp(np.random.normal(0.17, 0.37), 0, 1))\n",
    "    prdDict[\"Military Discount\"].append(Clamp(np.random.normal(0.27, 0.44), 0, 1))\n",
    "    prdDict[\"Membership Discount\"].append(Clamp(np.random.normal(0.08, 0.27), 0, 1))\n",
    "    prdDict[\"Membership Required\"].append(Clamp(np.random.normal(0.17, 0.38), 0, 1))\n",
    "    prdDict[\"Min Age\"].append(round(abs(np.random.normal(7.96, 2.39)) / (1 + np.random.normal(0.07, 0.02)))) #Skew strength [power, dilution], skew direction [*,/]\n",
    "    prdDict[\"Max Age\"].append(round(Skew_Value(0, 1, 0.3), 0))\n",
    "\n",
    "\n",
    "prdFrame = pd.DataFrame(prdDict)"
   ]
  },
  {
   "cell_type": "code",
   "execution_count": 320,
   "metadata": {},
   "outputs": [
    {
     "data": {
      "text/plain": [
       "<Axes: xlabel='Max Age', ylabel='Count'>"
      ]
     },
     "execution_count": 320,
     "metadata": {},
     "output_type": "execute_result"
    },
    {
     "data": {
      "image/png": "[encoded data removed]",
      "text/plain": [
       "<Figure size 640x480 with 1 Axes>"
      ]
     },
     "metadata": {},
     "output_type": "display_data"
    }
   ],
   "source": [
    "#print(prdFrame)\n",
    "\n",
    "sns.histplot(data=prdFrame, x=\"Max Age\")"
   ]
  }
 ],
 "metadata": {
  "kernelspec": {
   "display_name": "Python 3",
   "language": "python",
   "name": "python3"
  },
  "language_info": {
   "codemirror_mode": {
    "name": "ipython",
    "version": 3
   },
   "file_extension": ".py",
   "mimetype": "text/x-python",
   "name": "python",
   "nbconvert_exporter": "python",
   "pygments_lexer": "ipython3",
   "version": "3.11.4"
  }
 },
 "nbformat": 4,
 "nbformat_minor": 2
}
